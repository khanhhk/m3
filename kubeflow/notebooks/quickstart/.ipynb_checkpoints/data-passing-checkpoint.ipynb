{
 "cells": [
  {
   "cell_type": "code",
   "execution_count": 1,
   "id": "ff321375-6dea-4194-99cb-9bd34e1f4e00",
   "metadata": {},
   "outputs": [],
   "source": [
    "import kfp\n",
    "from kfp import dsl\n",
    "from kfp.components import load_component_from_url, create_component_from_func\n",
    "from kfp.components import InputPath, OutputPath\n",
    "\n",
    "import sys\n",
    "\n",
    "sys.path.insert(0, \"..\")\n",
    "from constants import NAMESPACE, HOST, NAMESPACE\n",
    "from utils import get_session_cookie"
   ]
  },
  {
   "cell_type": "code",
   "execution_count": 2,
   "id": "6846d8fe-eaba-449b-9a85-d1c530cf5735",
   "metadata": {},
   "outputs": [],
   "source": [
    "# Where all the runs belong to the pipeline reside in\n",
    "EXPERIMENT_NAME = \"mle-3-data-passing\""
   ]
  },
  {
   "cell_type": "markdown",
   "id": "be163143-1bf7-444f-8dd2-02822de4a471",
   "metadata": {},
   "source": [
    "## Define pipeline components"
   ]
  },
  {
   "cell_type": "code",
   "execution_count": 3,
   "id": "c0800650-f14a-4c35-9576-8de0243078d0",
   "metadata": {},
   "outputs": [],
   "source": [
    "# Load a pre-created op to download a file from an URL\n",
    "web_downloader_op = load_component_from_url(\n",
    "    \"https://raw.githubusercontent.com/kubeflow/pipelines/master/components/contrib/web/Download/component.yaml\"\n",
    ")"
   ]
  },
  {
   "cell_type": "code",
   "execution_count": 4,
   "id": "f5427f5e-f7d2-4476-a479-d96b72b238cf",
   "metadata": {},
   "outputs": [],
   "source": [
    "# Another op to merge all CSVs\n",
    "def merge_csv(\n",
    "    file_path: InputPath(\"Tarball\"), output_csv: OutputPath(\"CSV\")\n",
    "):  # Type hint: CSV, you can replace CSV with whatever\n",
    "    import glob\n",
    "    import pandas as pd\n",
    "    import tarfile\n",
    "\n",
    "    tarfile.open(name=file_path, mode=\"r|gz\").extractall(\"data\")\n",
    "    df = pd.concat(\n",
    "        [pd.read_csv(csv_file, header=None) for csv_file in glob.glob(\"data/*.csv\")]\n",
    "    )\n",
    "    df.to_csv(output_csv, index=False, header=False)\n",
    "\n",
    "\n",
    "merge_csv_op = create_component_from_func(\n",
    "    func=merge_csv,\n",
    "    output_component_file=\"../../components/merge_csv/component.yaml\",  # This is optional. It saves the component spec for future use.\n",
    "    base_image=\"python:3.7\",\n",
    "    packages_to_install=[\"pandas==1.1.4\"],\n",
    ")"
   ]
  },
  {
   "cell_type": "code",
   "execution_count": 5,
   "id": "e444b5d8-5280-4c96-8557-45d21b8e1db5",
   "metadata": {},
   "outputs": [],
   "source": [
    "# Final op to read CSV metadata\n",
    "def read_csv_metadata(input_csv: InputPath(\"CSV\")) -> tuple:\n",
    "    import pandas as pd\n",
    "\n",
    "    df = pd.read_csv(input_csv, header=None)\n",
    "    print(f\"[DEBUG] df.shape: {df.shape}\")\n",
    "    return df.shape\n",
    "\n",
    "\n",
    "read_csv_metadata_op = create_component_from_func(\n",
    "    func=read_csv_metadata,\n",
    "    output_component_file=\"../../components/get_csv_info/component.yaml\",  # This is optional. It saves the component spec for future use.\n",
    "    base_image=\"python:3.7\",\n",
    "    packages_to_install=[\"pandas==1.1.4\"],\n",
    ")"
   ]
  },
  {
   "cell_type": "markdown",
   "id": "929985c9-3e20-4e47-bad6-957366b5aa81",
   "metadata": {},
   "source": [
    "## Define some pipelines"
   ]
  },
  {
   "cell_type": "code",
   "execution_count": 9,
   "id": "8050a929-710f-4366-9ffe-7c94a5113c65",
   "metadata": {},
   "outputs": [],
   "source": [
    "@dsl.pipeline(name=\"Data Passing\", description=\"Pass data between components.\")\n",
    "def data_passing(url):\n",
    "    # A sample pipeline showing how to pass data (small) between components.\n",
    "\n",
    "    web_downloader_task = web_downloader_op(url=url)\n",
    "    merge_csv_task = merge_csv_op(file=web_downloader_task.outputs[\"Data\"])\n",
    "    read_csv_metadata_task = read_csv_metadata_op(\n",
    "        input_csv=merge_csv_task.outputs[\"output_csv\"]\n",
    "    )"
   ]
  },
  {
   "cell_type": "markdown",
   "id": "c7acac7d-aa8a-46b8-9915-309c3dfabec0",
   "metadata": {},
   "source": [
    "## Run the pipelines"
   ]
  },
  {
   "cell_type": "code",
   "execution_count": 10,
   "id": "fcae5c19-19bc-44b0-aa8f-5898de6e1caf",
   "metadata": {},
   "outputs": [],
   "source": [
    "# Get the token to authenticate to the `ml-pipeline` service\n",
    "session_cookie = get_session_cookie()\n",
    "\n",
    "# Initialize the client\n",
    "client = kfp.Client(\n",
    "    host=f\"{HOST}/pipeline\",\n",
    "    cookies=f\"authservice_session={session_cookie}\",\n",
    "    namespace=NAMESPACE,\n",
    ")"
   ]
  },
  {
   "cell_type": "code",
   "execution_count": 11,
   "id": "c3804263-77f9-4337-969f-37553a456309",
   "metadata": {},
   "outputs": [
    {
     "name": "stdout",
     "output_type": "stream",
     "text": [
      "{'output_csv': {{pipelineparam:op=merge-csv;name=output_csv}}}\n"
     ]
    },
    {
     "data": {
      "text/html": [
       "<a href=\"http://localhost:8000/pipeline/#/experiments/details/4bcce259-288c-41f4-8617-7ae9d2e3d8e9\" target=\"_blank\" >Experiment details</a>."
      ],
      "text/plain": [
       "<IPython.core.display.HTML object>"
      ]
     },
     "metadata": {},
     "output_type": "display_data"
    },
    {
     "data": {
      "text/html": [
       "<a href=\"http://localhost:8000/pipeline/#/runs/details/198cf199-3afc-4fba-8c46-379d4cd79754\" target=\"_blank\" >Run details</a>."
      ],
      "text/plain": [
       "<IPython.core.display.HTML object>"
      ]
     },
     "metadata": {},
     "output_type": "display_data"
    },
    {
     "data": {
      "text/plain": [
       "RunPipelineResult(run_id=198cf199-3afc-4fba-8c46-379d4cd79754)"
      ]
     },
     "execution_count": 11,
     "metadata": {},
     "output_type": "execute_result"
    }
   ],
   "source": [
    "client.create_run_from_pipeline_func(\n",
    "    data_passing,\n",
    "    arguments={\n",
    "        \"url\": \"https://storage.googleapis.com/ml-pipeline-playground/iris-csv-files.tar.gz\"\n",
    "    },\n",
    "    experiment_name=EXPERIMENT_NAME,\n",
    "    namespace=NAMESPACE,\n",
    ")"
   ]
  },
  {
   "cell_type": "code",
   "execution_count": null,
   "id": "25ffa6bc-6b05-4c85-b8ca-372fb5a657d5",
   "metadata": {},
   "outputs": [],
   "source": []
  }
 ],
 "metadata": {
  "kernelspec": {
   "display_name": "Python 3 (ipykernel)",
   "language": "python",
   "name": "python3"
  },
  "language_info": {
   "codemirror_mode": {
    "name": "ipython",
    "version": 3
   },
   "file_extension": ".py",
   "mimetype": "text/x-python",
   "name": "python",
   "nbconvert_exporter": "python",
   "pygments_lexer": "ipython3",
   "version": "3.9.19"
  }
 },
 "nbformat": 4,
 "nbformat_minor": 5
}
