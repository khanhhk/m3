{
 "cells": [
  {
   "cell_type": "code",
   "execution_count": 1,
   "id": "b94b71f9-ee1d-4d37-81a1-04dde00662f1",
   "metadata": {},
   "outputs": [],
   "source": [
    "import kfp\n",
    "from kfp import dsl\n",
    "from kfp.components import create_component_from_func, load_component_from_file\n",
    "\n",
    "import sys\n",
    "\n",
    "sys.path.insert(0, \"..\")\n",
    "from constants import NAMESPACE, HOST, NAMESPACE\n",
    "from utils import get_session_cookie"
   ]
  },
  {
   "cell_type": "code",
   "execution_count": 2,
   "id": "e18a93c6-c02c-4224-90e6-758c350f7093",
   "metadata": {},
   "outputs": [],
   "source": [
    "# Where all the runs belong to the pipeline reside in\n",
    "EXPERIMENT_NAME = \"mle-3-operators\""
   ]
  },
  {
   "cell_type": "markdown",
   "id": "b41527d5-01c5-4f96-a579-4d5020c6d875",
   "metadata": {},
   "source": [
    "## Define pipeline components"
   ]
  },
  {
   "cell_type": "code",
   "execution_count": 3,
   "id": "ecdb7d64-ffef-4f35-afab-d04c661fb595",
   "metadata": {},
   "outputs": [],
   "source": [
    "# The 1st component to calculate a+b\n",
    "def add(a: float, b: float) -> float:\n",
    "    return a + b\n",
    "\n",
    "\n",
    "# Other than using create_component_from_func, you can also use func_to_container_op (with an image arg),\n",
    "# load_component_from_url and load_component_from_file, etc., as mentioned below\n",
    "# https://www.kubeflow.org/docs/components/pipelines/v1/sdk/python-function-components/#getting-started-with-python-function-based-components\n",
    "add_op = create_component_from_func(\n",
    "    func=add,\n",
    "    base_image=\"python:3.7\",  # Base image to execute our code\n",
    "    output_component_file=\"../../components/add/component.yaml\",  # Optional\n",
    "    packages_to_install=[\"pandas==0.24\"],  # Optional\n",
    ")\n",
    "\n",
    "\n",
    "# The 2nd component to calculate a-b\n",
    "def minus(a: float, b: float) -> float:\n",
    "    print(a - b)\n",
    "    return a - b\n",
    "\n",
    "\n",
    "minus_op = create_component_from_func(\n",
    "    func=minus,\n",
    "    base_image=\"python:3.7\",\n",
    "    output_component_file=\"../../components/minus/component.yaml\",  # Optional\n",
    "    packages_to_install=[\"pandas==0.24\"],  # Optional\n",
    ")"
   ]
  },
  {
   "cell_type": "markdown",
   "id": "12371c1c-4368-46e1-a9dc-7d1c74b2eb2d",
   "metadata": {},
   "source": [
    "## Define some pipelines"
   ]
  },
  {
   "cell_type": "code",
   "execution_count": 4,
   "id": "5423bfd4-2eed-43ba-83c6-643547ae1630",
   "metadata": {},
   "outputs": [],
   "source": [
    "# Define a pipeline with 2 components: add and minus\n",
    "# The minus component will be run only if it satisfies\n",
    "# the condition on the sum's output: sum > 3\n",
    "@dsl.pipeline(\n",
    "    name=\"Condition\", description=\"Run minus op if the condition is satisfied.\"\n",
    ")\n",
    "def add_and_minus():\n",
    "    # A sample pipeline showing condition.\n",
    "\n",
    "    # You can also pass args to this func as mentioned in the following example\n",
    "    # https://www.kubeflow.org/docs/components/pipelines/v1/sdk/python-function-components/#getting-started-with-python-function-based-components\n",
    "    add_task = add_op(1, 1)  # This task receives 2 args\n",
    "    sum_output_ref = add_task.outputs[\"Output\"]  # Get the output from the previous step\n",
    "\n",
    "    # If the output of the sum task > 3, then run the minus task\n",
    "    with dsl.Condition(sum_output_ref > 3):\n",
    "        minus_task = minus_op(sum_output_ref, 4)"
   ]
  },
  {
   "cell_type": "markdown",
   "id": "cbf814e3-76f1-491c-b534-0c9d91f6dc77",
   "metadata": {},
   "source": [
    "## Run the pipelines"
   ]
  },
  {
   "cell_type": "code",
   "execution_count": 5,
   "id": "e8d3f830-9e75-40dd-ba58-a836c4c72d69",
   "metadata": {},
   "outputs": [],
   "source": [
    "# Get the token to authenticate to the `ml-pipeline` service\n",
    "session_cookie = get_session_cookie()\n",
    "\n",
    "# Initialize the client\n",
    "client = kfp.Client(\n",
    "    host=f\"{HOST}/pipeline\",\n",
    "    cookies=f\"authservice_session={session_cookie}\",\n",
    "    namespace=NAMESPACE,\n",
    ")"
   ]
  },
  {
   "cell_type": "code",
   "execution_count": 6,
   "id": "16770d45-394d-4027-8ec2-217411dff138",
   "metadata": {},
   "outputs": [
    {
     "data": {
      "text/html": [
       "<a href=\"http://localhost:8000/pipeline/#/experiments/details/75aa71f8-49ed-45bb-a4bf-083f7a7a2eec\" target=\"_blank\" >Experiment details</a>."
      ],
      "text/plain": [
       "<IPython.core.display.HTML object>"
      ]
     },
     "metadata": {},
     "output_type": "display_data"
    },
    {
     "data": {
      "text/html": [
       "<a href=\"http://localhost:8000/pipeline/#/runs/details/935e1641-d64e-4029-a4b2-a7618b3b1d46\" target=\"_blank\" >Run details</a>."
      ],
      "text/plain": [
       "<IPython.core.display.HTML object>"
      ]
     },
     "metadata": {},
     "output_type": "display_data"
    },
    {
     "data": {
      "text/plain": [
       "RunPipelineResult(run_id=935e1641-d64e-4029-a4b2-a7618b3b1d46)"
      ]
     },
     "execution_count": 6,
     "metadata": {},
     "output_type": "execute_result"
    }
   ],
   "source": [
    "# Create a pipeline from the above pre-defined function\n",
    "client.create_run_from_pipeline_func(\n",
    "    add_and_minus, arguments={}, experiment_name=EXPERIMENT_NAME, namespace=NAMESPACE\n",
    ")"
   ]
  }
 ],
 "metadata": {
  "kernelspec": {
   "display_name": "Python 3 (ipykernel)",
   "language": "python",
   "name": "python3"
  },
  "language_info": {
   "codemirror_mode": {
    "name": "ipython",
    "version": 3
   },
   "file_extension": ".py",
   "mimetype": "text/x-python",
   "name": "python",
   "nbconvert_exporter": "python",
   "pygments_lexer": "ipython3",
   "version": "3.9.19"
  }
 },
 "nbformat": 4,
 "nbformat_minor": 5
}
